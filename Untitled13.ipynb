{
 "cells": [
  {
   "cell_type": "code",
   "execution_count": 6,
   "id": "d58ac20e",
   "metadata": {},
   "outputs": [],
   "source": [
    "from newspaper import Article\n",
    "import random \n",
    "import string\n",
    "import nltk\n",
    "from sklearn.feature_extraction.text import CountVectorizer\n",
    "from sklearn.metrics.pairwise import cosine_similarity\n",
    "import numpy as np\n",
    "import warnings \n",
    "warnings.filterwarnings('ignore')"
   ]
  },
  {
   "cell_type": "code",
   "execution_count": 9,
   "id": "53791d64",
   "metadata": {},
   "outputs": [
    {
     "data": {
      "text/plain": [
       "True"
      ]
     },
     "execution_count": 9,
     "metadata": {},
     "output_type": "execute_result"
    }
   ],
   "source": [
    "nltk.download('punkt', quiet=True)"
   ]
  },
  {
   "cell_type": "code",
   "execution_count": 11,
   "id": "cea250f9",
   "metadata": {},
   "outputs": [],
   "source": [
    "article = Article('https://www.mayoclinic.org/diseases-conditions/chronic-kidney-disease/symptoms-causes/syc-20354521')\n",
    "article.download()\n",
    "article.parse()\n",
    "article.nlp()\n",
    "corpus = article.text"
   ]
  },
  {
   "cell_type": "code",
   "execution_count": 13,
   "id": "43cd2250",
   "metadata": {},
   "outputs": [
    {
     "name": "stdout",
     "output_type": "stream",
     "text": [
      "Overview\n",
      "\n",
      "Chronic kidney disease, also called chronic kidney failure, involves a gradual loss of kidney function. Your kidneys filter wastes and excess fluids from your blood, which are then removed in your urine. Advanced chronic kidney disease can cause dangerous levels of fluid, electrolytes and wastes to build up in your body.\n",
      "\n",
      "In the early stages of chronic kidney disease, you might have few signs or symptoms. You might not realize that you have kidney disease until the condition is advanced.\n",
      "\n",
      "Treatment for chronic kidney disease focuses on slowing the progression of kidney damage, usually by controlling the cause. But, even controlling the cause might not keep kidney damage from progressing. Chronic kidney disease can progress to end-stage kidney failure, which is fatal without artificial filtering (dialysis) or a kidney transplant.\n",
      "\n",
      "How kidneys work Show transcript for video How kidneys work One of the important jobs of the kidneys is to clean the blood. As blood moves through the body, it picks up extra fluid, chemicals and waste. The kidneys separate this material from the blood. It's carried out of the body in urine. If the kidneys are unable to do this and the condition is untreated, serious health problems result, with eventual loss of life.\n",
      "\n",
      "Symptoms\n",
      "\n",
      "Signs and symptoms of chronic kidney disease develop over time if kidney damage progresses slowly. Loss of kidney function can cause a buildup of fluid or body waste or electrolyte problems. Depending on how severe it is, loss of kidney function can cause:\n",
      "\n",
      "Nausea\n",
      "\n",
      "Vomiting\n",
      "\n",
      "Loss of appetite\n",
      "\n",
      "Fatigue and weakness\n",
      "\n",
      "Sleep problems\n",
      "\n",
      "Urinating more or less\n",
      "\n",
      "Decreased mental sharpness\n",
      "\n",
      "Muscle cramps\n",
      "\n",
      "Swelling of feet and ankles\n",
      "\n",
      "Dry, itchy skin\n",
      "\n",
      "High blood pressure (hypertension) that's difficult to control\n",
      "\n",
      "Shortness of breath, if fluid builds up in the lungs\n",
      "\n",
      "Chest pain, if fluid builds up around the lining of the heart\n",
      "\n",
      "Signs and symptoms of kidney disease are often nonspecific. This means they can also be caused by other illnesses. Because your kidneys are able to make up for lost function, you might not develop signs and symptoms until irreversible damage has occurred.\n",
      "\n",
      "When to see a doctor\n",
      "\n",
      "Make an appointment with your doctor if you have signs or symptoms of kidney disease. Early detection might help prevent kidney disease from progressing to kidney failure.\n",
      "\n",
      "If you have a medical condition that increases your risk of kidney disease, your doctor may monitor your blood pressure and kidney function with urine and blood tests during office visits. Ask your doctor whether these tests are necessary for you.\n",
      "\n",
      "Causes\n",
      "\n",
      "Normal kidney vs. diseased kidney Open pop-up dialog box Close Normal kidney vs. diseased kidney Normal kidney vs. diseased kidney A normal kidney has about 1 million filtering units. Each unit, called a glomerulus, connects to a tubule, which collects urine. Conditions such as high blood pressure and diabetes take a toll on kidney function by damaging these filtering units and collecting tubules and causing scarring.\n",
      "\n",
      "Polycystic kidney Open pop-up dialog box Close Polycystic kidney Polycystic kidney A healthy kidney (left) eliminates waste from the blood and maintains the body's balance. With polycystic kidney disease (right), fluid-filled sacs called cysts develop in the kidneys, causing them to grow larger and gradually lose their ability to function normally.\n",
      "\n",
      "Chronic kidney disease occurs when a disease or condition impairs kidney function, causing kidney damage to worsen over several months or years.\n",
      "\n",
      "Diseases and conditions that cause chronic kidney disease include:\n",
      "\n",
      "Type 1 or type 2 diabetes\n",
      "\n",
      "High blood pressure\n",
      "\n",
      "Glomerulonephritis (gloe-mer-u-low-nuh-FRY-tis), an inflammation of the kidney's filtering units (glomeruli)\n",
      "\n",
      "Interstitial nephritis (in-tur-STISH-ul nuh-FRY-tis), an inflammation of the kidney's tubules and surrounding structures\n",
      "\n",
      "Polycystic kidney disease or other inherited kidney diseases\n",
      "\n",
      "Prolonged obstruction of the urinary tract, from conditions such as enlarged prostate, kidney stones and some cancers\n",
      "\n",
      "Vesicoureteral (ves-ih-koe-yoo-REE-tur-ul) reflux, a condition that causes urine to back up into your kidneys\n",
      "\n",
      "Recurrent kidney infection, also called pyelonephritis (pie-uh-low-nuh-FRY-tis)\n",
      "\n",
      "Risk factors\n",
      "\n",
      "Factors that can increase your risk of chronic kidney disease include:\n",
      "\n",
      "Diabetes\n",
      "\n",
      "High blood pressure\n",
      "\n",
      "Heart (cardiovascular) disease\n",
      "\n",
      "Smoking\n",
      "\n",
      "Obesity\n",
      "\n",
      "Being Black, Native American or Asian American\n",
      "\n",
      "Family history of kidney disease\n",
      "\n",
      "Abnormal kidney structure\n",
      "\n",
      "Older age\n",
      "\n",
      "Frequent use of medications that can damage the kidneys\n",
      "\n",
      "Complications\n",
      "\n",
      "Chronic kidney disease can affect almost every part of your body. Potential complications include:\n",
      "\n",
      "Fluid retention, which could lead to swelling in your arms and legs, high blood pressure, or fluid in your lungs (pulmonary edema)\n",
      "\n",
      "A sudden rise in potassium levels in your blood (hyperkalemia), which could impair your heart's function and can be life-threatening\n",
      "\n",
      "Anemia\n",
      "\n",
      "Heart disease\n",
      "\n",
      "Weak bones and an increased risk of bone fractures\n",
      "\n",
      "Decreased sex drive, erectile dysfunction or reduced fertility\n",
      "\n",
      "Damage to your central nervous system, which can cause difficulty concentrating, personality changes or seizures\n",
      "\n",
      "Decreased immune response, which makes you more vulnerable to infection\n",
      "\n",
      "Pericarditis, an inflammation of the saclike membrane that envelops your heart (pericardium)\n",
      "\n",
      "Pregnancy complications that carry risks for the mother and the developing fetus\n",
      "\n",
      "Irreversible damage to your kidneys (end-stage kidney disease), eventually requiring either dialysis or a kidney transplant for survival\n",
      "\n",
      "Prevention\n",
      "\n",
      "To reduce your risk of developing kidney disease:\n"
     ]
    }
   ],
   "source": [
    "print(corpus)"
   ]
  },
  {
   "cell_type": "code",
   "execution_count": 15,
   "id": "8edde290",
   "metadata": {},
   "outputs": [],
   "source": [
    "text = corpus\n",
    "sentence_list = nltk.sent_tokenize(text)"
   ]
  },
  {
   "cell_type": "code",
   "execution_count": 17,
   "id": "c23eb237",
   "metadata": {},
   "outputs": [
    {
     "name": "stdout",
     "output_type": "stream",
     "text": [
      "['Overview\\n\\nChronic kidney disease, also called chronic kidney failure, involves a gradual loss of kidney function.', 'Your kidneys filter wastes and excess fluids from your blood, which are then removed in your urine.', 'Advanced chronic kidney disease can cause dangerous levels of fluid, electrolytes and wastes to build up in your body.', 'In the early stages of chronic kidney disease, you might have few signs or symptoms.', 'You might not realize that you have kidney disease until the condition is advanced.', 'Treatment for chronic kidney disease focuses on slowing the progression of kidney damage, usually by controlling the cause.', 'But, even controlling the cause might not keep kidney damage from progressing.', 'Chronic kidney disease can progress to end-stage kidney failure, which is fatal without artificial filtering (dialysis) or a kidney transplant.', 'How kidneys work Show transcript for video How kidneys work One of the important jobs of the kidneys is to clean the blood.', 'As blood moves through the body, it picks up extra fluid, chemicals and waste.', 'The kidneys separate this material from the blood.', \"It's carried out of the body in urine.\", 'If the kidneys are unable to do this and the condition is untreated, serious health problems result, with eventual loss of life.', 'Symptoms\\n\\nSigns and symptoms of chronic kidney disease develop over time if kidney damage progresses slowly.', 'Loss of kidney function can cause a buildup of fluid or body waste or electrolyte problems.', \"Depending on how severe it is, loss of kidney function can cause:\\n\\nNausea\\n\\nVomiting\\n\\nLoss of appetite\\n\\nFatigue and weakness\\n\\nSleep problems\\n\\nUrinating more or less\\n\\nDecreased mental sharpness\\n\\nMuscle cramps\\n\\nSwelling of feet and ankles\\n\\nDry, itchy skin\\n\\nHigh blood pressure (hypertension) that's difficult to control\\n\\nShortness of breath, if fluid builds up in the lungs\\n\\nChest pain, if fluid builds up around the lining of the heart\\n\\nSigns and symptoms of kidney disease are often nonspecific.\", 'This means they can also be caused by other illnesses.', 'Because your kidneys are able to make up for lost function, you might not develop signs and symptoms until irreversible damage has occurred.', 'When to see a doctor\\n\\nMake an appointment with your doctor if you have signs or symptoms of kidney disease.', 'Early detection might help prevent kidney disease from progressing to kidney failure.', 'If you have a medical condition that increases your risk of kidney disease, your doctor may monitor your blood pressure and kidney function with urine and blood tests during office visits.', 'Ask your doctor whether these tests are necessary for you.', 'Causes\\n\\nNormal kidney vs. diseased kidney Open pop-up dialog box Close Normal kidney vs. diseased kidney Normal kidney vs. diseased kidney A normal kidney has about 1 million filtering units.', 'Each unit, called a glomerulus, connects to a tubule, which collects urine.', 'Conditions such as high blood pressure and diabetes take a toll on kidney function by damaging these filtering units and collecting tubules and causing scarring.', \"Polycystic kidney Open pop-up dialog box Close Polycystic kidney Polycystic kidney A healthy kidney (left) eliminates waste from the blood and maintains the body's balance.\", 'With polycystic kidney disease (right), fluid-filled sacs called cysts develop in the kidneys, causing them to grow larger and gradually lose their ability to function normally.', 'Chronic kidney disease occurs when a disease or condition impairs kidney function, causing kidney damage to worsen over several months or years.', \"Diseases and conditions that cause chronic kidney disease include:\\n\\nType 1 or type 2 diabetes\\n\\nHigh blood pressure\\n\\nGlomerulonephritis (gloe-mer-u-low-nuh-FRY-tis), an inflammation of the kidney's filtering units (glomeruli)\\n\\nInterstitial nephritis (in-tur-STISH-ul nuh-FRY-tis), an inflammation of the kidney's tubules and surrounding structures\\n\\nPolycystic kidney disease or other inherited kidney diseases\\n\\nProlonged obstruction of the urinary tract, from conditions such as enlarged prostate, kidney stones and some cancers\\n\\nVesicoureteral (ves-ih-koe-yoo-REE-tur-ul) reflux, a condition that causes urine to back up into your kidneys\\n\\nRecurrent kidney infection, also called pyelonephritis (pie-uh-low-nuh-FRY-tis)\\n\\nRisk factors\\n\\nFactors that can increase your risk of chronic kidney disease include:\\n\\nDiabetes\\n\\nHigh blood pressure\\n\\nHeart (cardiovascular) disease\\n\\nSmoking\\n\\nObesity\\n\\nBeing Black, Native American or Asian American\\n\\nFamily history of kidney disease\\n\\nAbnormal kidney structure\\n\\nOlder age\\n\\nFrequent use of medications that can damage the kidneys\\n\\nComplications\\n\\nChronic kidney disease can affect almost every part of your body.\", \"Potential complications include:\\n\\nFluid retention, which could lead to swelling in your arms and legs, high blood pressure, or fluid in your lungs (pulmonary edema)\\n\\nA sudden rise in potassium levels in your blood (hyperkalemia), which could impair your heart's function and can be life-threatening\\n\\nAnemia\\n\\nHeart disease\\n\\nWeak bones and an increased risk of bone fractures\\n\\nDecreased sex drive, erectile dysfunction or reduced fertility\\n\\nDamage to your central nervous system, which can cause difficulty concentrating, personality changes or seizures\\n\\nDecreased immune response, which makes you more vulnerable to infection\\n\\nPericarditis, an inflammation of the saclike membrane that envelops your heart (pericardium)\\n\\nPregnancy complications that carry risks for the mother and the developing fetus\\n\\nIrreversible damage to your kidneys (end-stage kidney disease), eventually requiring either dialysis or a kidney transplant for survival\\n\\nPrevention\\n\\nTo reduce your risk of developing kidney disease:\"]\n"
     ]
    }
   ],
   "source": [
    "print(sentence_list)"
   ]
  },
  {
   "cell_type": "code",
   "execution_count": 21,
   "id": "ad7e4f5e",
   "metadata": {},
   "outputs": [],
   "source": [
    "# FUnction to return a random greeting response to a users greeting\n",
    "def greeting_response(text):\n",
    "    text = text.lower()\n",
    "    \n",
    "    #Bots getting response \n",
    "    bot_greetings = ['Howdy', 'hi', 'hey', 'hello', 'hole',]\n",
    "    #user greetings\n",
    "    user_greetings = ['Hi', 'hey', 'hello', 'hole', 'greetings', 'wassup']\n",
    "    \n",
    "    for word in text.split():\n",
    "        if word in user_greetings:\n",
    "            return random.choice(bot_greetings)"
   ]
  },
  {
   "cell_type": "code",
   "execution_count": 22,
   "id": "a5da1e47",
   "metadata": {},
   "outputs": [],
   "source": [
    "def index_sort(list_var):\n",
    "    lenght = len(list_var)\n",
    "    list_index = list(range(0, lenght))\n",
    "    \n",
    "    x = list_var\n",
    "    for i in range(lenght):\n",
    "        for j in range(lenght):\n",
    "            if x[list_index[i]] > x[list_index[j]]:\n",
    "                temp = list_index[i]\n",
    "                list_index[i] = list_index[j]\n",
    "                list_index[j] = temp\n",
    "    return list_index"
   ]
  },
  {
   "cell_type": "code",
   "execution_count": 34,
   "id": "c418e773",
   "metadata": {},
   "outputs": [],
   "source": [
    "#creat the bots response\n",
    "def bot_response(user_input):\n",
    "    user_input = user_input.lower\n",
    "    sentence_list.append(user_input)\n",
    "    bot_response = ''\n",
    "    cm = CountVectorizer().fit_transform(sentence_list)\n",
    "    similarity_scores = cosine_similarity(cm[-1], cm)\n",
    "    similarity_scores_list = similarity_scores.flatten()\n",
    "    index = index_sort(similarity_scores_list)\n",
    "    index = index[1:]\n",
    "    response_flag = 0\n",
    "    \n",
    "    j = 0\n",
    "    for i in range(len(index)):\n",
    "        if similarity_scores_list[index[i]] > 0.0:\n",
    "            bot_response = bot_response + '' +sentence_list[index[i]]\n",
    "            response_flag = 1\n",
    "            j = j+1\n",
    "        if j > 2:\n",
    "            break\n",
    "            \n",
    "        if response_flag == 0:\n",
    "            bot_response = bot_response + '' + \" I apolagize, I don't understand.\"\n",
    "        \n",
    "        sentence_list.remove(user_input)\n",
    "        \n",
    "        return bot_response"
   ]
  },
  {
   "cell_type": "code",
   "execution_count": null,
   "id": "7e86cb39",
   "metadata": {},
   "outputs": [],
   "source": [
    "# Start chat\n",
    "print('Doc Bot: I am Doctor Bot or Doc Bot for short. I will answer your quaries about Chronic Kidney Disease. If you want to exit, type bye')\n",
    "\n",
    "exit_list = ['exit', 'bye']\n",
    "while(True):\n",
    "    user_input = input()\n",
    "    if user_input.lower() in exit_list:\n",
    "        print('Doc Bot: Chat with you later')\n",
    "        break\n",
    "    else:\n",
    "        if greeting_response(user_input) != None:\n",
    "            print('Doc Bot:' + greeting_response(user_input))\n",
    "        else:\n",
    "            print('Doc Bot:' +bot_response(user_input))"
   ]
  }
 ],
 "metadata": {
  "kernelspec": {
   "display_name": "Python 3",
   "language": "python",
   "name": "python3"
  },
  "language_info": {
   "codemirror_mode": {
    "name": "ipython",
    "version": 3
   },
   "file_extension": ".py",
   "mimetype": "text/x-python",
   "name": "python",
   "nbconvert_exporter": "python",
   "pygments_lexer": "ipython3",
   "version": "3.8.8"
  }
 },
 "nbformat": 4,
 "nbformat_minor": 5
}
